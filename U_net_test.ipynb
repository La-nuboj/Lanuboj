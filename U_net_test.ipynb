{
  "nbformat": 4,
  "nbformat_minor": 0,
  "metadata": {
    "colab": {
      "name": "U_net_test.ipynb",
      "version": "0.3.2",
      "provenance": [],
      "collapsed_sections": [],
      "toc_visible": true,
      "machine_shape": "hm"
    },
    "kernelspec": {
      "name": "python3",
      "display_name": "Python 3"
    },
    "accelerator": "GPU"
  },
  "cells": [
    {
      "cell_type": "markdown",
      "metadata": {
        "id": "dII6-gI4vkO8",
        "colab_type": "text"
      },
      "source": [
        "# Kaggle data download"
      ]
    },
    {
      "cell_type": "code",
      "metadata": {
        "id": "u1LlMAfF_zuq",
        "colab_type": "code",
        "colab": {}
      },
      "source": [
        "!mkdir -p ~/.kaggle\n",
        "!cp kaggle.json ~/.kaggle/\n",
        "# 자신의 kaggle account에서 api key 생성 후 kaggle.json 업로드\n",
        "!chmod 600 ~/.kaggle/kaggle.json \n",
        "!kaggle competitions download -c understanding_cloud_organization\n",
        "!unzip 'test_images.zip' -d ./test_images\n",
        "!unzip 'train_images.zip' -d ./train_images\n",
        "!unzip 'train.csv.zip' -d ./train"
      ],
      "execution_count": 0,
      "outputs": []
    },
    {
      "cell_type": "code",
      "metadata": {
        "id": "jfN0tbc9-x6e",
        "colab_type": "code",
        "outputId": "1c1b7fef-99e5-44cc-e7f4-c03968f98172",
        "colab": {
          "base_uri": "https://localhost:8080/",
          "height": 52
        }
      },
      "source": [
        "!pip install segmentation-models --quiet"
      ],
      "execution_count": 0,
      "outputs": [
        {
          "output_type": "stream",
          "text": [
            "\u001b[K     |████████████████████████████████| 51kB 4.4MB/s \n",
            "\u001b[K     |████████████████████████████████| 81kB 12.0MB/s \n",
            "\u001b[?25h"
          ],
          "name": "stdout"
        }
      ]
    },
    {
      "cell_type": "code",
      "metadata": {
        "id": "yXFvBPWF_FYL",
        "colab_type": "code",
        "outputId": "943debc0-6fcb-4ffb-966d-3d9db6339f48",
        "colab": {
          "base_uri": "https://localhost:8080/",
          "height": 90
        }
      },
      "source": [
        "import os\n",
        "import json\n",
        "\n",
        "import albumentations as albu\n",
        "import cv2\n",
        "import keras\n",
        "from keras import backend as K\n",
        "from keras.models import Model\n",
        "from keras.layers import Input\n",
        "from keras.layers.convolutional import Conv2D, Conv2DTranspose\n",
        "from keras.layers.pooling import MaxPooling2D\n",
        "from keras.layers.merge import concatenate\n",
        "from keras.losses import binary_crossentropy\n",
        "from keras.optimizers import Adam\n",
        "from keras.callbacks import Callback, ModelCheckpoint\n",
        "import matplotlib.pyplot as plt\n",
        "import numpy as np\n",
        "import pandas as pd\n",
        "from tqdm import tqdm\n",
        "from sklearn.model_selection import train_test_split\n",
        "import segmentation_models as sm"
      ],
      "execution_count": 0,
      "outputs": [
        {
          "output_type": "stream",
          "text": [
            "Using TensorFlow backend.\n",
            "/usr/local/lib/python3.6/dist-packages/classification_models/resnext/__init__.py:4: UserWarning: Current ResNext models are deprecated, use keras.applications ResNeXt models\n",
            "  warnings.warn('Current ResNext models are deprecated, '\n"
          ],
          "name": "stderr"
        }
      ]
    },
    {
      "cell_type": "markdown",
      "metadata": {
        "id": "paB6JPXIv4oq",
        "colab_type": "text"
      },
      "source": [
        "#Preprocessing"
      ]
    },
    {
      "cell_type": "code",
      "metadata": {
        "id": "iGzy3UKY_JL2",
        "colab_type": "code",
        "outputId": "8a1a7fa4-3647-4d57-985c-2798c83b533c",
        "colab": {
          "base_uri": "https://localhost:8080/",
          "height": 213
        }
      },
      "source": [
        "train_df = pd.read_csv('./train/train.csv')\n",
        "train_df['ImageId'] = train_df['Image_Label'].apply(lambda x: x.split('_')[0])\n",
        "train_df['ClassId'] = train_df['Image_Label'].apply(lambda x: x.split('_')[1])\n",
        "train_df['hasMask'] = ~ train_df['EncodedPixels'].isna()\n",
        "\n",
        "print(train_df.shape)\n",
        "train_df.head()"
      ],
      "execution_count": 0,
      "outputs": [
        {
          "output_type": "stream",
          "text": [
            "(22184, 5)\n"
          ],
          "name": "stdout"
        },
        {
          "output_type": "execute_result",
          "data": {
            "text/html": [
              "<div>\n",
              "<style scoped>\n",
              "    .dataframe tbody tr th:only-of-type {\n",
              "        vertical-align: middle;\n",
              "    }\n",
              "\n",
              "    .dataframe tbody tr th {\n",
              "        vertical-align: top;\n",
              "    }\n",
              "\n",
              "    .dataframe thead th {\n",
              "        text-align: right;\n",
              "    }\n",
              "</style>\n",
              "<table border=\"1\" class=\"dataframe\">\n",
              "  <thead>\n",
              "    <tr style=\"text-align: right;\">\n",
              "      <th></th>\n",
              "      <th>Image_Label</th>\n",
              "      <th>EncodedPixels</th>\n",
              "      <th>ImageId</th>\n",
              "      <th>ClassId</th>\n",
              "      <th>hasMask</th>\n",
              "    </tr>\n",
              "  </thead>\n",
              "  <tbody>\n",
              "    <tr>\n",
              "      <th>0</th>\n",
              "      <td>0011165.jpg_Fish</td>\n",
              "      <td>264918 937 266318 937 267718 937 269118 937 27...</td>\n",
              "      <td>0011165.jpg</td>\n",
              "      <td>Fish</td>\n",
              "      <td>True</td>\n",
              "    </tr>\n",
              "    <tr>\n",
              "      <th>1</th>\n",
              "      <td>0011165.jpg_Flower</td>\n",
              "      <td>1355565 1002 1356965 1002 1358365 1002 1359765...</td>\n",
              "      <td>0011165.jpg</td>\n",
              "      <td>Flower</td>\n",
              "      <td>True</td>\n",
              "    </tr>\n",
              "    <tr>\n",
              "      <th>2</th>\n",
              "      <td>0011165.jpg_Gravel</td>\n",
              "      <td>NaN</td>\n",
              "      <td>0011165.jpg</td>\n",
              "      <td>Gravel</td>\n",
              "      <td>False</td>\n",
              "    </tr>\n",
              "    <tr>\n",
              "      <th>3</th>\n",
              "      <td>0011165.jpg_Sugar</td>\n",
              "      <td>NaN</td>\n",
              "      <td>0011165.jpg</td>\n",
              "      <td>Sugar</td>\n",
              "      <td>False</td>\n",
              "    </tr>\n",
              "    <tr>\n",
              "      <th>4</th>\n",
              "      <td>002be4f.jpg_Fish</td>\n",
              "      <td>233813 878 235213 878 236613 878 238010 881 23...</td>\n",
              "      <td>002be4f.jpg</td>\n",
              "      <td>Fish</td>\n",
              "      <td>True</td>\n",
              "    </tr>\n",
              "  </tbody>\n",
              "</table>\n",
              "</div>"
            ],
            "text/plain": [
              "          Image_Label  ... hasMask\n",
              "0    0011165.jpg_Fish  ...    True\n",
              "1  0011165.jpg_Flower  ...    True\n",
              "2  0011165.jpg_Gravel  ...   False\n",
              "3   0011165.jpg_Sugar  ...   False\n",
              "4    002be4f.jpg_Fish  ...    True\n",
              "\n",
              "[5 rows x 5 columns]"
            ]
          },
          "metadata": {
            "tags": []
          },
          "execution_count": 4
        }
      ]
    },
    {
      "cell_type": "code",
      "metadata": {
        "id": "Wq4X710tBURr",
        "colab_type": "code",
        "outputId": "13bb0c4d-36c4-47ed-a221-cad516b539a6",
        "colab": {
          "base_uri": "https://localhost:8080/",
          "height": 213
        }
      },
      "source": [
        "# run-length encode\n",
        "mask_count_df = train_df.groupby('ImageId').agg(np.sum).reset_index()\n",
        "mask_count_df.sort_values('hasMask', ascending=False, inplace=True)\n",
        "print(mask_count_df.shape)\n",
        "mask_count_df.head()"
      ],
      "execution_count": 0,
      "outputs": [
        {
          "output_type": "stream",
          "text": [
            "(5546, 2)\n"
          ],
          "name": "stdout"
        },
        {
          "output_type": "execute_result",
          "data": {
            "text/html": [
              "<div>\n",
              "<style scoped>\n",
              "    .dataframe tbody tr th:only-of-type {\n",
              "        vertical-align: middle;\n",
              "    }\n",
              "\n",
              "    .dataframe tbody tr th {\n",
              "        vertical-align: top;\n",
              "    }\n",
              "\n",
              "    .dataframe thead th {\n",
              "        text-align: right;\n",
              "    }\n",
              "</style>\n",
              "<table border=\"1\" class=\"dataframe\">\n",
              "  <thead>\n",
              "    <tr style=\"text-align: right;\">\n",
              "      <th></th>\n",
              "      <th>ImageId</th>\n",
              "      <th>hasMask</th>\n",
              "    </tr>\n",
              "  </thead>\n",
              "  <tbody>\n",
              "    <tr>\n",
              "      <th>821</th>\n",
              "      <td>24dd99c.jpg</td>\n",
              "      <td>4.0</td>\n",
              "    </tr>\n",
              "    <tr>\n",
              "      <th>1885</th>\n",
              "      <td>562f80a.jpg</td>\n",
              "      <td>4.0</td>\n",
              "    </tr>\n",
              "    <tr>\n",
              "      <th>3260</th>\n",
              "      <td>944f10b.jpg</td>\n",
              "      <td>4.0</td>\n",
              "    </tr>\n",
              "    <tr>\n",
              "      <th>1872</th>\n",
              "      <td>55b539f.jpg</td>\n",
              "      <td>4.0</td>\n",
              "    </tr>\n",
              "    <tr>\n",
              "      <th>4464</th>\n",
              "      <td>cdf7242.jpg</td>\n",
              "      <td>4.0</td>\n",
              "    </tr>\n",
              "  </tbody>\n",
              "</table>\n",
              "</div>"
            ],
            "text/plain": [
              "          ImageId  hasMask\n",
              "821   24dd99c.jpg      4.0\n",
              "1885  562f80a.jpg      4.0\n",
              "3260  944f10b.jpg      4.0\n",
              "1872  55b539f.jpg      4.0\n",
              "4464  cdf7242.jpg      4.0"
            ]
          },
          "metadata": {
            "tags": []
          },
          "execution_count": 5
        }
      ]
    },
    {
      "cell_type": "code",
      "metadata": {
        "id": "rSC7G27SB7hh",
        "colab_type": "code",
        "colab": {}
      },
      "source": [
        "sub_df = pd.read_csv('./sample_submission.csv')\n",
        "sub_df['ImageId'] = sub_df['Image_Label'].apply(lambda x: x.split('_')[0])\n",
        "test_imgs = pd.DataFrame(sub_df['ImageId'].unique(), columns=['ImageId'])"
      ],
      "execution_count": 0,
      "outputs": []
    },
    {
      "cell_type": "markdown",
      "metadata": {
        "id": "VhIB80eFFOZw",
        "colab_type": "text"
      },
      "source": [
        "# run_length_encode"
      ]
    },
    {
      "cell_type": "code",
      "metadata": {
        "id": "-Zn-TwiECQqQ",
        "colab_type": "code",
        "colab": {}
      },
      "source": [
        "def np_resize(img, input_shape):\n",
        "    \"\"\"\n",
        "    Reshape a numpy array, which is input_shape=(height, width), \n",
        "    as opposed to input_shape=(width, height) for cv2\n",
        "    \"\"\"\n",
        "    height, width = input_shape\n",
        "    return cv2.resize(img, (width, height))\n",
        "    \n",
        "def mask2rle(img):\n",
        "    '''\n",
        "    img: numpy array, 1 - mask, 0 - background\n",
        "    Returns run length as string formated\n",
        "    '''\n",
        "    pixels= img.T.flatten()\n",
        "    pixels = np.concatenate([[0], pixels, [0]])\n",
        "    runs = np.where(pixels[1:] != pixels[:-1])[0] + 1\n",
        "    runs[1::2] -= runs[::2]\n",
        "    return ' '.join(str(x) for x in runs)\n",
        "\n",
        "def rle2mask(rle, input_shape):\n",
        "    width, height = input_shape[:2]\n",
        "    \n",
        "    mask= np.zeros( width*height ).astype(np.uint8)\n",
        "    \n",
        "    array = np.asarray([int(x) for x in rle.split()])\n",
        "    starts = array[0::2]\n",
        "    lengths = array[1::2]\n",
        "\n",
        "    current_position = 0\n",
        "    for index, start in enumerate(starts):\n",
        "        mask[int(start):int(start+lengths[index])] = 1\n",
        "        current_position += lengths[index]\n",
        "        \n",
        "    return mask.reshape(height, width).T\n",
        "\n",
        "def build_masks(rles, input_shape, reshape=None):\n",
        "    depth = len(rles)\n",
        "    if reshape is None:\n",
        "        masks = np.zeros((*input_shape, depth))\n",
        "    else:\n",
        "        masks = np.zeros((*reshape, depth))\n",
        "    \n",
        "    for i, rle in enumerate(rles):\n",
        "        if type(rle) is str:\n",
        "            if reshape is None:\n",
        "                masks[:, :, i] = rle2mask(rle, input_shape)\n",
        "            else:\n",
        "                mask = rle2mask(rle, input_shape)\n",
        "                reshaped_mask = np_resize(mask, reshape)\n",
        "                masks[:, :, i] = reshaped_mask\n",
        "    \n",
        "    return masks\n",
        "\n",
        "def build_rles(masks, reshape=None):\n",
        "    width, height, depth = masks.shape\n",
        "    \n",
        "    rles = []\n",
        "    \n",
        "    for i in range(depth):\n",
        "        mask = masks[:, :, i]\n",
        "        \n",
        "        if reshape:\n",
        "            mask = mask.astype(np.float32)\n",
        "            mask = np_resize(mask, reshape).astype(np.int64)\n",
        "        \n",
        "        rle = mask2rle(mask)\n",
        "        rles.append(rle)\n",
        "        \n",
        "    return rles"
      ],
      "execution_count": 0,
      "outputs": []
    },
    {
      "cell_type": "markdown",
      "metadata": {
        "id": "oo7fAyHxFKRa",
        "colab_type": "text"
      },
      "source": [
        "#Loss Function"
      ]
    },
    {
      "cell_type": "code",
      "metadata": {
        "id": "2mr6kaQdCSaH",
        "colab_type": "code",
        "colab": {}
      },
      "source": [
        "# loss function\n",
        "def dice_coef(y_true, y_pred, smooth=1):\n",
        "    y_true_f = K.flatten(y_true)\n",
        "    y_pred_f = K.flatten(y_pred)\n",
        "    intersection = K.sum(y_true_f * y_pred_f)\n",
        "    return (2. * intersection + smooth) / (K.sum(y_true_f) + K.sum(y_pred_f) + smooth)\n",
        "\n",
        "def dice_loss(y_true, y_pred):\n",
        "    smooth = 1.\n",
        "    y_true_f = K.flatten(y_true)\n",
        "    y_pred_f = K.flatten(y_pred)\n",
        "    intersection = y_true_f * y_pred_f\n",
        "    score = (2. * K.sum(intersection) + smooth) / (K.sum(y_true_f) + K.sum(y_pred_f) + smooth)\n",
        "    return 1. - score\n",
        "\n",
        "def bce_dice_loss(y_true, y_pred):\n",
        "    return binary_crossentropy(y_true, y_pred) + dice_loss(y_true, y_pred)"
      ],
      "execution_count": 0,
      "outputs": []
    },
    {
      "cell_type": "markdown",
      "metadata": {
        "id": "3gkMdAkzFF1B",
        "colab_type": "text"
      },
      "source": [
        "# Data Generator"
      ]
    },
    {
      "cell_type": "code",
      "metadata": {
        "id": "bRIypZQEC0l8",
        "colab_type": "code",
        "colab": {}
      },
      "source": [
        "class DataGenerator(keras.utils.Sequence):\n",
        "    'Generates data for Keras'\n",
        "    def __init__(self, list_IDs, df, target_df=None, mode='fit',\n",
        "                 base_path='./train_images',\n",
        "                 batch_size=32, dim=(1400, 2100), n_channels=3, reshape=None,\n",
        "                 augment=False, n_classes=4, random_state=2019, shuffle=True):\n",
        "        self.dim = dim\n",
        "        self.batch_size = batch_size\n",
        "        self.df = df\n",
        "        self.mode = mode\n",
        "        self.base_path = base_path\n",
        "        self.target_df = target_df\n",
        "        self.list_IDs = list_IDs\n",
        "        self.reshape = reshape\n",
        "        self.n_channels = n_channels\n",
        "        self.augment = augment\n",
        "        self.n_classes = n_classes\n",
        "        self.shuffle = shuffle\n",
        "        self.random_state = random_state\n",
        "        \n",
        "        self.on_epoch_end()\n",
        "        np.random.seed(self.random_state)\n",
        "\n",
        "    def __len__(self):\n",
        "        'Denotes the number of batches per epoch'\n",
        "        return int(np.floor(len(self.list_IDs) / self.batch_size))\n",
        "\n",
        "    def __getitem__(self, index):\n",
        "        'Generate one batch of data'\n",
        "        # Generate indexes of the batch\n",
        "        indexes = self.indexes[index*self.batch_size:(index+1)*self.batch_size]\n",
        "\n",
        "        # Find list of IDs\n",
        "        list_IDs_batch = [self.list_IDs[k] for k in indexes]\n",
        "        \n",
        "        X = self.__generate_X(list_IDs_batch)\n",
        "        \n",
        "        if self.mode == 'fit':\n",
        "            y = self.__generate_y(list_IDs_batch)\n",
        "            \n",
        "            if self.augment:\n",
        "                X, y = self.__augment_batch(X, y)\n",
        "            \n",
        "            return X, y\n",
        "        \n",
        "        elif self.mode == 'predict':\n",
        "            return X\n",
        "\n",
        "        else:\n",
        "            raise AttributeError('The mode parameter should be set to \"fit\" or \"predict\".')\n",
        "        \n",
        "    def on_epoch_end(self):\n",
        "        'Updates indexes after each epoch'\n",
        "        self.indexes = np.arange(len(self.list_IDs))\n",
        "        if self.shuffle == True:\n",
        "            np.random.seed(self.random_state)\n",
        "            np.random.shuffle(self.indexes)\n",
        "    \n",
        "    def __generate_X(self, list_IDs_batch):\n",
        "        'Generates data containing batch_size samples'\n",
        "        # Initialization\n",
        "        if self.reshape is None:\n",
        "            X = np.empty((self.batch_size, *self.dim, self.n_channels))\n",
        "        else:\n",
        "            X = np.empty((self.batch_size, *self.reshape, self.n_channels))\n",
        "        \n",
        "        # Generate data\n",
        "        for i, ID in enumerate(list_IDs_batch):\n",
        "            im_name = self.df['ImageId'].iloc[ID]\n",
        "            img_path = f\"{self.base_path}/{im_name}\"\n",
        "            img = self.__load_rgb(img_path)\n",
        "            \n",
        "            if self.reshape is not None:\n",
        "                img = np_resize(img, self.reshape)\n",
        "            \n",
        "            # Store samples\n",
        "            X[i,] = img\n",
        "\n",
        "        return X\n",
        "    \n",
        "    def __generate_y(self, list_IDs_batch):\n",
        "        if self.reshape is None:\n",
        "            y = np.empty((self.batch_size, *self.dim, self.n_classes), dtype=int)\n",
        "        else:\n",
        "            y = np.empty((self.batch_size, *self.reshape, self.n_classes), dtype=int)\n",
        "        \n",
        "        for i, ID in enumerate(list_IDs_batch):\n",
        "            im_name = self.df['ImageId'].iloc[ID]\n",
        "            image_df = self.target_df[self.target_df['ImageId'] == im_name]\n",
        "            \n",
        "            rles = image_df['EncodedPixels'].values\n",
        "            \n",
        "            if self.reshape is not None:\n",
        "                masks = build_masks(rles, input_shape=self.dim, reshape=self.reshape)\n",
        "            else:\n",
        "                masks = build_masks(rles, input_shape=self.dim)\n",
        "            \n",
        "            y[i, ] = masks\n",
        "\n",
        "        return y\n",
        "    \n",
        "    def __load_grayscale(self, img_path):\n",
        "        img = cv2.imread(img_path, cv2.IMREAD_GRAYSCALE)\n",
        "        img = img.astype(np.float32) / 255.\n",
        "        img = np.expand_dims(img, axis=-1)\n",
        "\n",
        "        return img\n",
        "    \n",
        "    def __load_rgb(self, img_path):\n",
        "        img = cv2.imread(img_path)\n",
        "        img = cv2.cvtColor(img, cv2.COLOR_BGR2RGB)\n",
        "        img = img.astype(np.float32) / 255.\n",
        "\n",
        "        return img\n",
        "    \n",
        "    def __random_transform(self, img, masks):\n",
        "        composition = albu.Compose([\n",
        "            albu.HorizontalFlip(),\n",
        "            albu.VerticalFlip(),\n",
        "            albu.ShiftScaleRotate(rotate_limit=30, shift_limit=0.1)\n",
        "        ])\n",
        "        \n",
        "        composed = composition(image=img, mask=masks)\n",
        "        aug_img = composed['image']\n",
        "        aug_masks = composed['mask']\n",
        "        \n",
        "        return aug_img, aug_masks\n",
        "    \n",
        "    def __augment_batch(self, img_batch, masks_batch):\n",
        "        for i in range(img_batch.shape[0]):\n",
        "            img_batch[i, ], masks_batch[i, ] = self.__random_transform(\n",
        "                img_batch[i, ], masks_batch[i, ])\n",
        "        \n",
        "        return img_batch, masks_batch"
      ],
      "execution_count": 0,
      "outputs": []
    },
    {
      "cell_type": "markdown",
      "metadata": {
        "id": "kzUvdDVAE_z8",
        "colab_type": "text"
      },
      "source": [
        "# Model Architecture"
      ]
    },
    {
      "cell_type": "code",
      "metadata": {
        "id": "sYSCM5qUEmlu",
        "colab_type": "code",
        "colab": {}
      },
      "source": [
        "def vanilla_unet(input_shape):\n",
        "    \"\"\"\n",
        "    This is the old model. Best LB is ~0.5\n",
        "    \"\"\"\n",
        "    inputs = Input(input_shape)\n",
        "\n",
        "    c1 = Conv2D(8, (3, 3), activation='elu', padding='same') (inputs)\n",
        "    c1 = Conv2D(8, (3, 3), activation='elu', padding='same') (c1)\n",
        "    p1 = MaxPooling2D((2, 2), padding='same') (c1)\n",
        "\n",
        "    c2 = Conv2D(16, (3, 3), activation='elu', padding='same') (p1)\n",
        "    c2 = Conv2D(16, (3, 3), activation='elu', padding='same') (c2)\n",
        "    p2 = MaxPooling2D((2, 2), padding='same') (c2)\n",
        "\n",
        "    c3 = Conv2D(32, (3, 3), activation='elu', padding='same') (p2)\n",
        "    c3 = Conv2D(32, (3, 3), activation='elu', padding='same') (c3)\n",
        "    p3 = MaxPooling2D((2, 2), padding='same') (c3)\n",
        "\n",
        "    c4 = Conv2D(64, (3, 3), activation='elu', padding='same') (p3)\n",
        "    c4 = Conv2D(64, (3, 3), activation='elu', padding='same') (c4)\n",
        "    p4 = MaxPooling2D((2, 2), padding='same') (c4)\n",
        "\n",
        "    c5 = Conv2D(64, (3, 3), activation='elu', padding='same') (p4)\n",
        "    c5 = Conv2D(64, (3, 3), activation='elu', padding='same') (c5)\n",
        "    p5 = MaxPooling2D((2, 2), padding='same') (c5)\n",
        "\n",
        "    c55 = Conv2D(128, (3, 3), activation='elu', padding='same') (p5)\n",
        "    c55 = Conv2D(128, (3, 3), activation='elu', padding='same') (c55)\n",
        "\n",
        "    u6 = Conv2DTranspose(64, (2, 2), strides=(2, 2), padding='same') (c55)\n",
        "    u6 = concatenate([u6, c5])\n",
        "    c6 = Conv2D(64, (3, 3), activation='elu', padding='same') (u6)\n",
        "    c6 = Conv2D(64, (3, 3), activation='elu', padding='same') (c6)\n",
        "\n",
        "    u71 = Conv2DTranspose(32, (2, 2), strides=(2, 2), padding='same') (c6)\n",
        "    u71 = concatenate([u71, c4])\n",
        "    c71 = Conv2D(32, (3, 3), activation='elu', padding='same') (u71)\n",
        "    c61 = Conv2D(32, (3, 3), activation='elu', padding='same') (c71)\n",
        "\n",
        "    u7 = Conv2DTranspose(32, (2, 2), strides=(2, 2), padding='same') (c61)\n",
        "    u7 = concatenate([u7, c3])\n",
        "    c7 = Conv2D(32, (3, 3), activation='elu', padding='same') (u7)\n",
        "    c7 = Conv2D(32, (3, 3), activation='elu', padding='same') (c7)\n",
        "\n",
        "    u8 = Conv2DTranspose(16, (2, 2), strides=(2, 2), padding='same') (c7)\n",
        "    u8 = concatenate([u8, c2])\n",
        "    c8 = Conv2D(16, (3, 3), activation='elu', padding='same') (u8)\n",
        "    c8 = Conv2D(16, (3, 3), activation='elu', padding='same') (c8)\n",
        "\n",
        "    u9 = Conv2DTranspose(8, (2, 2), strides=(2, 2), padding='same') (c8)\n",
        "    u9 = concatenate([u9, c1], axis=3)\n",
        "    c9 = Conv2D(8, (3, 3), activation='elu', padding='same') (u9)\n",
        "    c9 = Conv2D(8, (3, 3), activation='elu', padding='same') (c9)\n",
        "\n",
        "    outputs = Conv2D(4, (1, 1), activation='sigmoid') (c9)\n",
        "\n",
        "    model = Model(inputs=[inputs], outputs=[outputs])\n",
        "    \n",
        "    return model"
      ],
      "execution_count": 0,
      "outputs": []
    },
    {
      "cell_type": "markdown",
      "metadata": {
        "id": "baCbYj0PE7N9",
        "colab_type": "text"
      },
      "source": [
        "# Training"
      ]
    },
    {
      "cell_type": "code",
      "metadata": {
        "id": "jEON_R_9Ey5O",
        "colab_type": "code",
        "colab": {}
      },
      "source": [
        "BATCH_SIZE = 32\n",
        "\n",
        "train_idx, val_idx = train_test_split(\n",
        "    mask_count_df.index, random_state=2019, test_size=0.2\n",
        ")\n",
        "\n",
        "train_generator = DataGenerator(\n",
        "    train_idx,\n",
        "    df=mask_count_df,\n",
        "    target_df=train_df,\n",
        "    batch_size=BATCH_SIZE,\n",
        "    reshape=(320, 480),\n",
        "    augment=True,\n",
        "    n_channels=3,\n",
        "    n_classes=4\n",
        ")\n",
        "\n",
        "val_generator = DataGenerator(\n",
        "    val_idx,\n",
        "    df=mask_count_df,\n",
        "    target_df=train_df,\n",
        "    batch_size=BATCH_SIZE, \n",
        "    reshape=(320, 480),\n",
        "    augment=False,\n",
        "    n_channels=3,\n",
        "    n_classes=4\n",
        ")"
      ],
      "execution_count": 0,
      "outputs": []
    },
    {
      "cell_type": "code",
      "metadata": {
        "id": "Zvxtp1ErFg7d",
        "colab_type": "code",
        "colab": {}
      },
      "source": [
        "model = sm.Unet(\n",
        "    'resnet34',\n",
        "    classes=4,\n",
        "    input_shape=(320, 480, 3),\n",
        "    activation='sigmoid'\n",
        ")\n",
        "model.compile(optimizer=Adam(0.002), loss=bce_dice_loss, metrics=[dice_coef])\n",
        "model.summary()"
      ],
      "execution_count": 0,
      "outputs": []
    },
    {
      "cell_type": "code",
      "metadata": {
        "id": "fRuVA5L3FtVv",
        "colab_type": "code",
        "outputId": "df1846cc-1bc8-4e76-9459-69d499833436",
        "colab": {
          "base_uri": "https://localhost:8080/",
          "height": 369
        }
      },
      "source": [
        "checkpoint = ModelCheckpoint('model.h5', save_best_only=True)\n",
        "\n",
        "history = model.fit_generator(\n",
        "    train_generator,\n",
        "    validation_data=val_generator,\n",
        "    callbacks=[checkpoint],\n",
        "    epochs=10#30\n",
        ")"
      ],
      "execution_count": 0,
      "outputs": [
        {
          "output_type": "stream",
          "text": [
            "Epoch 1/10\n",
            "277/277 [==============================] - 528s 2s/step - loss: 0.9115 - dice_coef: 0.4442 - val_loss: 1.2361 - val_dice_coef: 0.4428\n",
            "Epoch 2/10\n",
            "277/277 [==============================] - 520s 2s/step - loss: 0.8813 - dice_coef: 0.4651 - val_loss: 1.3883 - val_dice_coef: 0.3981\n",
            "Epoch 3/10\n",
            "277/277 [==============================] - 513s 2s/step - loss: 0.8657 - dice_coef: 0.4745 - val_loss: 1.0682 - val_dice_coef: 0.4535\n",
            "Epoch 4/10\n",
            "277/277 [==============================] - 515s 2s/step - loss: 0.8538 - dice_coef: 0.4822 - val_loss: 0.9411 - val_dice_coef: 0.4925\n",
            "Epoch 5/10\n",
            "277/277 [==============================] - 512s 2s/step - loss: 0.8447 - dice_coef: 0.4886 - val_loss: 0.9779 - val_dice_coef: 0.4877\n",
            "Epoch 6/10\n",
            "277/277 [==============================] - 519s 2s/step - loss: 0.8378 - dice_coef: 0.4933 - val_loss: 0.8826 - val_dice_coef: 0.4955\n",
            "Epoch 7/10\n",
            "277/277 [==============================] - 514s 2s/step - loss: 0.8349 - dice_coef: 0.4941 - val_loss: 0.9320 - val_dice_coef: 0.4802\n",
            "Epoch 8/10\n",
            "277/277 [==============================] - 517s 2s/step - loss: 0.8289 - dice_coef: 0.4982 - val_loss: 0.8442 - val_dice_coef: 0.5210\n",
            "Epoch 9/10\n",
            "277/277 [==============================] - 519s 2s/step - loss: 0.8213 - dice_coef: 0.5028 - val_loss: 1.0083 - val_dice_coef: 0.4601\n",
            "Epoch 10/10\n",
            "277/277 [==============================] - 522s 2s/step - loss: 0.8195 - dice_coef: 0.5035 - val_loss: 0.8443 - val_dice_coef: 0.5209\n"
          ],
          "name": "stdout"
        }
      ]
    },
    {
      "cell_type": "code",
      "metadata": {
        "id": "IdqJAWBGKajQ",
        "colab_type": "code",
        "colab": {}
      },
      "source": [
        ""
      ],
      "execution_count": 0,
      "outputs": []
    }
  ]
}